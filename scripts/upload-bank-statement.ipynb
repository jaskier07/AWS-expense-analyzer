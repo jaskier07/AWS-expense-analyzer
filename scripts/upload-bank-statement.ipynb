{
 "cells": [
  {
   "cell_type": "code",
   "execution_count": 1,
   "id": "14955a53-913b-4174-a6e2-4d1f26a4f5e0",
   "metadata": {},
   "outputs": [
    {
     "name": "stdout",
     "output_type": "stream",
     "text": [
      "env: AWS_PROFILE=olek\n"
     ]
    }
   ],
   "source": [
    "%env AWS_PROFILE=olek"
   ]
  },
  {
   "cell_type": "code",
   "execution_count": 2,
   "id": "364c9171",
   "metadata": {},
   "outputs": [
    {
     "name": "stdout",
     "output_type": "stream",
     "text": [
      "Requirement already satisfied: boto3 in /Library/Frameworks/Python.framework/Versions/3.12/lib/python3.12/site-packages (1.29.2)\n",
      "Requirement already satisfied: botocore<1.33.0,>=1.32.2 in /Library/Frameworks/Python.framework/Versions/3.12/lib/python3.12/site-packages (from boto3) (1.32.2)\n",
      "Requirement already satisfied: jmespath<2.0.0,>=0.7.1 in /Library/Frameworks/Python.framework/Versions/3.12/lib/python3.12/site-packages (from boto3) (1.0.1)\n",
      "Requirement already satisfied: s3transfer<0.8.0,>=0.7.0 in /Library/Frameworks/Python.framework/Versions/3.12/lib/python3.12/site-packages (from boto3) (0.7.0)\n",
      "Requirement already satisfied: python-dateutil<3.0.0,>=2.1 in /Library/Frameworks/Python.framework/Versions/3.12/lib/python3.12/site-packages (from botocore<1.33.0,>=1.32.2->boto3) (2.8.2)\n",
      "Requirement already satisfied: urllib3<2.1,>=1.25.4 in /Library/Frameworks/Python.framework/Versions/3.12/lib/python3.12/site-packages (from botocore<1.33.0,>=1.32.2->boto3) (2.0.7)\n",
      "Requirement already satisfied: six>=1.5 in /Library/Frameworks/Python.framework/Versions/3.12/lib/python3.12/site-packages (from python-dateutil<3.0.0,>=2.1->botocore<1.33.0,>=1.32.2->boto3) (1.16.0)\n",
      "\n",
      "\u001b[1m[\u001b[0m\u001b[34;49mnotice\u001b[0m\u001b[1;39;49m]\u001b[0m\u001b[39;49m A new release of pip is available: \u001b[0m\u001b[31;49m23.2.1\u001b[0m\u001b[39;49m -> \u001b[0m\u001b[32;49m24.0\u001b[0m\n",
      "\u001b[1m[\u001b[0m\u001b[34;49mnotice\u001b[0m\u001b[1;39;49m]\u001b[0m\u001b[39;49m To update, run: \u001b[0m\u001b[32;49mpip3 install --upgrade pip\u001b[0m\n",
      "Note: you may need to restart the kernel to use updated packages.\n",
      "Requirement already satisfied: pandas in /Library/Frameworks/Python.framework/Versions/3.12/lib/python3.12/site-packages (2.1.3)\n",
      "Requirement already satisfied: numpy<2,>=1.26.0 in /Library/Frameworks/Python.framework/Versions/3.12/lib/python3.12/site-packages (from pandas) (1.26.2)\n",
      "Requirement already satisfied: python-dateutil>=2.8.2 in /Library/Frameworks/Python.framework/Versions/3.12/lib/python3.12/site-packages (from pandas) (2.8.2)\n",
      "Requirement already satisfied: pytz>=2020.1 in /Library/Frameworks/Python.framework/Versions/3.12/lib/python3.12/site-packages (from pandas) (2023.3.post1)\n",
      "Requirement already satisfied: tzdata>=2022.1 in /Library/Frameworks/Python.framework/Versions/3.12/lib/python3.12/site-packages (from pandas) (2023.3)\n",
      "Requirement already satisfied: six>=1.5 in /Library/Frameworks/Python.framework/Versions/3.12/lib/python3.12/site-packages (from python-dateutil>=2.8.2->pandas) (1.16.0)\n",
      "\n",
      "\u001b[1m[\u001b[0m\u001b[34;49mnotice\u001b[0m\u001b[1;39;49m]\u001b[0m\u001b[39;49m A new release of pip is available: \u001b[0m\u001b[31;49m23.2.1\u001b[0m\u001b[39;49m -> \u001b[0m\u001b[32;49m24.0\u001b[0m\n",
      "\u001b[1m[\u001b[0m\u001b[34;49mnotice\u001b[0m\u001b[1;39;49m]\u001b[0m\u001b[39;49m To update, run: \u001b[0m\u001b[32;49mpip3 install --upgrade pip\u001b[0m\n",
      "Note: you may need to restart the kernel to use updated packages.\n",
      "Requirement already satisfied: requests in /Library/Frameworks/Python.framework/Versions/3.12/lib/python3.12/site-packages (2.31.0)\n",
      "Requirement already satisfied: charset-normalizer<4,>=2 in /Library/Frameworks/Python.framework/Versions/3.12/lib/python3.12/site-packages (from requests) (3.3.2)\n",
      "Requirement already satisfied: idna<4,>=2.5 in /Library/Frameworks/Python.framework/Versions/3.12/lib/python3.12/site-packages (from requests) (3.4)\n",
      "Requirement already satisfied: urllib3<3,>=1.21.1 in /Library/Frameworks/Python.framework/Versions/3.12/lib/python3.12/site-packages (from requests) (2.0.7)\n",
      "Requirement already satisfied: certifi>=2017.4.17 in /Library/Frameworks/Python.framework/Versions/3.12/lib/python3.12/site-packages (from requests) (2023.7.22)\n",
      "\n",
      "\u001b[1m[\u001b[0m\u001b[34;49mnotice\u001b[0m\u001b[1;39;49m]\u001b[0m\u001b[39;49m A new release of pip is available: \u001b[0m\u001b[31;49m23.2.1\u001b[0m\u001b[39;49m -> \u001b[0m\u001b[32;49m24.0\u001b[0m\n",
      "\u001b[1m[\u001b[0m\u001b[34;49mnotice\u001b[0m\u001b[1;39;49m]\u001b[0m\u001b[39;49m To update, run: \u001b[0m\u001b[32;49mpip3 install --upgrade pip\u001b[0m\n",
      "Note: you may need to restart the kernel to use updated packages.\n"
     ]
    }
   ],
   "source": [
    "%pip install boto3\n",
    "%pip install pandas\n",
    "%pip install requests\n",
    "%config Completer.use_jedi = False"
   ]
  },
  {
   "cell_type": "code",
   "execution_count": 62,
   "id": "35e688c1",
   "metadata": {},
   "outputs": [],
   "source": [
    "from pathlib import Path\n",
    "import csv\n",
    "import pandas as pd\n",
    "import requests\n",
    "import base64\n",
    "import boto3\n",
    "from datetime import datetime\n",
    "import os\n",
    "import json"
   ]
  },
  {
   "cell_type": "markdown",
   "id": "d7bfcef0",
   "metadata": {},
   "source": [
    "## Initial configuration"
   ]
  },
  {
   "cell_type": "code",
   "execution_count": 39,
   "id": "b608c8cf",
   "metadata": {},
   "outputs": [
    {
     "data": {
      "text/plain": [
       "0                                 api_path\n",
       "1                             project_path\n",
       "2                   path_to_bank_statement\n",
       "3    step_functions_immediate_analysis_arn\n",
       "4                                bank_type\n",
       "Name: key, dtype: object"
      ]
     },
     "execution_count": 39,
     "metadata": {},
     "output_type": "execute_result"
    }
   ],
   "source": [
    "path_to_configuration = '../ignored/jupyter_configuration.csv'\n",
    "config = pd.read_csv(path_to_configuration)\n",
    "config['key']"
   ]
  },
  {
   "cell_type": "code",
   "execution_count": 40,
   "id": "ac7126b9",
   "metadata": {},
   "outputs": [],
   "source": [
    "def get_value_from_config(key):\n",
    "    return config.loc[config['key'] == key, 'value'].values[0]"
   ]
  },
  {
   "cell_type": "code",
   "execution_count": 41,
   "id": "b6216c2e-57c5-46a4-809a-1d385263760f",
   "metadata": {},
   "outputs": [],
   "source": [
    "def get_path_to_endpoint(endpoint):\n",
    "    return get_value_from_config('api_path') + endpoint"
   ]
  },
  {
   "cell_type": "code",
   "execution_count": 42,
   "id": "977283cc",
   "metadata": {},
   "outputs": [],
   "source": [
    "path_to_bank_statement = get_value_from_config('path_to_bank_statement')\n",
    "bank_type = get_value_from_config('bank_type')\n",
    "step_functions_immediate_analysis_arn = get_value_from_config('step_functions_immediate_analysis_arn')\n",
    "test_endpoint = get_path_to_endpoint('health')\n",
    "post_bank_statement_endpoint = get_path_to_endpoint('bank-statements')"
   ]
  },
  {
   "cell_type": "markdown",
   "id": "26116d59",
   "metadata": {},
   "source": [
    "### Reading file content utils"
   ]
  },
  {
   "cell_type": "code",
   "execution_count": 43,
   "id": "e1280f28",
   "metadata": {},
   "outputs": [],
   "source": [
    "text_encoding = 'Windows-1250'\n",
    "\n",
    "def encode_base64(text):\n",
    "    text_bytes = text.encode(text_encoding)\n",
    "    text_bytes_base64 = base64.b64encode(text_bytes)\n",
    "    return text_bytes_base64.decode(text_encoding)\n",
    "\n",
    "def decode_base64(text):\n",
    "    text_bytes = text.encode(text_encoding)\n",
    "    text_bytes_base64 = base64.b64decode(text_bytes)\n",
    "    return text_bytes_base64.decode(text_encoding)"
   ]
  },
  {
   "cell_type": "markdown",
   "id": "7f0a1339",
   "metadata": {},
   "source": [
    "## Read bank statement"
   ]
  },
  {
   "cell_type": "code",
   "execution_count": 44,
   "id": "d6a08cba-e049-4226-afb1-51f15384045c",
   "metadata": {},
   "outputs": [],
   "source": [
    "bank_statement_content = Path(path_to_bank_statement).read_text(encoding=text_encoding)"
   ]
  },
  {
   "cell_type": "code",
   "execution_count": 45,
   "id": "286e1ebf",
   "metadata": {},
   "outputs": [],
   "source": [
    "bank_statement_content_base64 = encode_base64(bank_statement_content)"
   ]
  },
  {
   "cell_type": "markdown",
   "id": "9a7ac839",
   "metadata": {},
   "source": [
    "## Upload bank statement to AWS"
   ]
  },
  {
   "cell_type": "markdown",
   "id": "292a7df8-4fb6-4ea1-bd6d-bbee894a6510",
   "metadata": {},
   "source": [
    "### Prepare filename"
   ]
  },
  {
   "cell_type": "code",
   "execution_count": 46,
   "id": "8f80a1e8",
   "metadata": {},
   "outputs": [
    {
     "data": {
      "text/plain": [
       "'2024-04-19/PKO_BP-pkobp.csv'"
      ]
     },
     "execution_count": 46,
     "metadata": {},
     "output_type": "execute_result"
    }
   ],
   "source": [
    "current_date = datetime.today().strftime('%Y-%m-%d')\n",
    "bucket_name = 'expenses-counter-bank-statements-immediate-analysis'\n",
    "filename = os.path.basename(path_to_bank_statement)\n",
    "s3_filename = '{}/{}-{}'.format(current_date, bank_type, filename)\n",
    "s3_filename"
   ]
  },
  {
   "cell_type": "markdown",
   "id": "f92bd8df-a9c3-4712-b4a3-a69d840be9fc",
   "metadata": {},
   "source": [
    "### Upload file to S3"
   ]
  },
  {
   "cell_type": "code",
   "execution_count": 22,
   "id": "eadfbbdb-1acd-4dff-8962-e41849bf7ef7",
   "metadata": {},
   "outputs": [],
   "source": [
    "s3 = boto3.resource('s3')"
   ]
  },
  {
   "cell_type": "code",
   "execution_count": 23,
   "id": "4b795b7b-7f8b-4af9-ad84-8c5857e667fe",
   "metadata": {},
   "outputs": [],
   "source": [
    "s3.meta.client.upload_file(path_to_bank_statement, bucket_name, s3_filename)"
   ]
  },
  {
   "cell_type": "markdown",
   "id": "7202b9d4",
   "metadata": {},
   "source": [
    "### Test connection"
   ]
  },
  {
   "cell_type": "code",
   "execution_count": 47,
   "id": "d0aa5958",
   "metadata": {},
   "outputs": [
    {
     "data": {
      "text/plain": [
       "<Response [403]>"
      ]
     },
     "execution_count": 47,
     "metadata": {},
     "output_type": "execute_result"
    }
   ],
   "source": [
    "response = requests.get(test_endpoint)\n",
    "response"
   ]
  },
  {
   "cell_type": "markdown",
   "id": "174f43f4-bd94-4578-bee9-0a339df6c1f6",
   "metadata": {},
   "source": [
    "### Call API Gateway for immediate analysis"
   ]
  },
  {
   "cell_type": "code",
   "execution_count": 122,
   "id": "e4d41286-4712-4e2d-b737-cb187adb2c6d",
   "metadata": {},
   "outputs": [],
   "source": [
    "api_gateway_body = {\n",
    "    \"input\": \"{}\",# {\"elo\" : \"melo\"},\n",
    "   \"name\": \"MyExecution5\",\n",
    "   \"stateMachineArn\": step_functions_immediate_analysis_arn\n",
    "}\n",
    "api_gateway_body = json.dumps(api_gateway_body)"
   ]
  },
  {
   "cell_type": "code",
   "execution_count": 123,
   "id": "fcfc0291-e7fa-4c9e-9d54-7d49199eb97a",
   "metadata": {},
   "outputs": [],
   "source": [
    "headers = {'content-type': 'application/json'}"
   ]
  },
  {
   "cell_type": "code",
   "execution_count": 120,
   "id": "2294efd8-3db8-4f93-95ad-4a99cdf17fe5",
   "metadata": {},
   "outputs": [
    {
     "data": {
      "text/plain": [
       "200"
      ]
     },
     "execution_count": 120,
     "metadata": {},
     "output_type": "execute_result"
    }
   ],
   "source": [
    "response = requests.post(post_bank_statement_endpoint, headers=headers, data=str(api_gateway_body))\n",
    "response.status_code"
   ]
  },
  {
   "cell_type": "code",
   "execution_count": 125,
   "id": "e84580f6-24a1-4515-9cc7-1613f406417e",
   "metadata": {},
   "outputs": [
    {
     "data": {
      "text/plain": [
       "b'{\"__type\":\"com.amazonaws.swf.service.v2.model#InvalidArn\",\"message\":\"Invalid Arn: \\'Resource type not valid in this context: execution\\'\"}'"
      ]
     },
     "execution_count": 125,
     "metadata": {},
     "output_type": "execute_result"
    }
   ],
   "source": [
    "response.content"
   ]
  },
  {
   "cell_type": "code",
   "execution_count": null,
   "id": "b3e3315b-9090-47a6-a7bf-84bc0693dac6",
   "metadata": {},
   "outputs": [],
   "source": [
    "break"
   ]
  },
  {
   "cell_type": "markdown",
   "id": "f1939f14",
   "metadata": {},
   "source": [
    "### Map bank statements to transactions"
   ]
  },
  {
   "cell_type": "code",
   "execution_count": 102,
   "id": "ca445f33",
   "metadata": {},
   "outputs": [],
   "source": [
    "params = {\n",
    "    \"accountStatement\": bank_statement_content_base64,\n",
    "    \"bankType\": bank_type\n",
    "}"
   ]
  },
  {
   "cell_type": "code",
   "execution_count": 103,
   "id": "0e6a9607",
   "metadata": {},
   "outputs": [
    {
     "data": {
      "text/plain": [
       "414"
      ]
     },
     "execution_count": 103,
     "metadata": {},
     "output_type": "execute_result"
    }
   ],
   "source": [
    "headers = {'content-type': 'application/json'}\n",
    "response = requests.get(parse_bank_statements_endpoint, params=params, headers=headers)\n",
    "response.status_code"
   ]
  }
 ],
 "metadata": {
  "kernelspec": {
   "display_name": "Python 3 (ipykernel)",
   "language": "python",
   "name": "python3"
  },
  "language_info": {
   "codemirror_mode": {
    "name": "ipython",
    "version": 3
   },
   "file_extension": ".py",
   "mimetype": "text/x-python",
   "name": "python",
   "nbconvert_exporter": "python",
   "pygments_lexer": "ipython3",
   "version": "3.12.0"
  }
 },
 "nbformat": 4,
 "nbformat_minor": 5
}
