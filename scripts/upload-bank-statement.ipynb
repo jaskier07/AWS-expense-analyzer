{
 "cells": [
  {
   "cell_type": "code",
   "execution_count": 52,
   "id": "364c9171",
   "metadata": {},
   "outputs": [
    {
     "name": "stdout",
     "output_type": "stream",
     "text": [
      "Requirement already satisfied: boto3 in c:\\users\\alexp\\appdata\\local\\packages\\pythonsoftwarefoundation.python.3.11_qbz5n2kfra8p0\\localcache\\local-packages\\python311\\site-packages (1.28.3)\n",
      "Requirement already satisfied: botocore<1.32.0,>=1.31.3 in c:\\users\\alexp\\appdata\\local\\packages\\pythonsoftwarefoundation.python.3.11_qbz5n2kfra8p0\\localcache\\local-packages\\python311\\site-packages (from boto3) (1.31.3)\n",
      "Requirement already satisfied: jmespath<2.0.0,>=0.7.1 in c:\\users\\alexp\\appdata\\local\\packages\\pythonsoftwarefoundation.python.3.11_qbz5n2kfra8p0\\localcache\\local-packages\\python311\\site-packages (from boto3) (1.0.1)\n",
      "Requirement already satisfied: s3transfer<0.7.0,>=0.6.0 in c:\\users\\alexp\\appdata\\local\\packages\\pythonsoftwarefoundation.python.3.11_qbz5n2kfra8p0\\localcache\\local-packages\\python311\\site-packages (from boto3) (0.6.1)\n",
      "Requirement already satisfied: python-dateutil<3.0.0,>=2.1 in c:\\users\\alexp\\appdata\\local\\packages\\pythonsoftwarefoundation.python.3.11_qbz5n2kfra8p0\\localcache\\local-packages\\python311\\site-packages (from botocore<1.32.0,>=1.31.3->boto3) (2.8.2)\n",
      "Requirement already satisfied: urllib3<1.27,>=1.25.4 in c:\\users\\alexp\\appdata\\local\\packages\\pythonsoftwarefoundation.python.3.11_qbz5n2kfra8p0\\localcache\\local-packages\\python311\\site-packages (from botocore<1.32.0,>=1.31.3->boto3) (1.26.16)\n",
      "Requirement already satisfied: six>=1.5 in c:\\users\\alexp\\appdata\\local\\packages\\pythonsoftwarefoundation.python.3.11_qbz5n2kfra8p0\\localcache\\local-packages\\python311\\site-packages (from python-dateutil<3.0.0,>=2.1->botocore<1.32.0,>=1.31.3->boto3) (1.16.0)\n",
      "Note: you may need to restart the kernel to use updated packages.\n",
      "Requirement already satisfied: pandas in c:\\users\\alexp\\appdata\\local\\packages\\pythonsoftwarefoundation.python.3.11_qbz5n2kfra8p0\\localcache\\local-packages\\python311\\site-packages (2.0.3)\n",
      "Requirement already satisfied: python-dateutil>=2.8.2 in c:\\users\\alexp\\appdata\\local\\packages\\pythonsoftwarefoundation.python.3.11_qbz5n2kfra8p0\\localcache\\local-packages\\python311\\site-packages (from pandas) (2.8.2)\n",
      "Requirement already satisfied: pytz>=2020.1 in c:\\users\\alexp\\appdata\\local\\packages\\pythonsoftwarefoundation.python.3.11_qbz5n2kfra8p0\\localcache\\local-packages\\python311\\site-packages (from pandas) (2023.3)\n",
      "Requirement already satisfied: tzdata>=2022.1 in c:\\users\\alexp\\appdata\\local\\packages\\pythonsoftwarefoundation.python.3.11_qbz5n2kfra8p0\\localcache\\local-packages\\python311\\site-packages (from pandas) (2023.3)\n",
      "Requirement already satisfied: numpy>=1.21.0 in c:\\users\\alexp\\appdata\\local\\packages\\pythonsoftwarefoundation.python.3.11_qbz5n2kfra8p0\\localcache\\local-packages\\python311\\site-packages (from pandas) (1.25.1)\n",
      "Requirement already satisfied: six>=1.5 in c:\\users\\alexp\\appdata\\local\\packages\\pythonsoftwarefoundation.python.3.11_qbz5n2kfra8p0\\localcache\\local-packages\\python311\\site-packages (from python-dateutil>=2.8.2->pandas) (1.16.0)\n",
      "Note: you may need to restart the kernel to use updated packages.\n"
     ]
    }
   ],
   "source": [
    "%pip install boto3\n",
    "%pip install pandas\n",
    "%pip install requests"
   ]
  },
  {
   "cell_type": "code",
   "execution_count": 56,
   "id": "35e688c1",
   "metadata": {},
   "outputs": [],
   "source": [
    "from pathlib import Path\n",
    "import csv\n",
    "import pandas as pd\n",
    "import requests"
   ]
  },
  {
   "cell_type": "markdown",
   "id": "d7bfcef0",
   "metadata": {},
   "source": [
    "## Initial configuration"
   ]
  },
  {
   "cell_type": "code",
   "execution_count": 36,
   "id": "b608c8cf",
   "metadata": {},
   "outputs": [
    {
     "data": {
      "text/plain": [
       "0    api_path\n",
       "Name: key, dtype: object"
      ]
     },
     "execution_count": 36,
     "metadata": {},
     "output_type": "execute_result"
    }
   ],
   "source": [
    "path_to_configuration = r'C:\\Users\\alexp\\Development\\AWS-expense-analyzer\\ignored\\jupyter_configuration.csv'\n",
    "config = pd.read_csv(path_to_configuration)\n",
    "config['key']"
   ]
  },
  {
   "cell_type": "code",
   "execution_count": 61,
   "id": "47d9052b",
   "metadata": {},
   "outputs": [],
   "source": [
    "def get_path_to_endpoint(endpoint):\n",
    "    return config.loc[config['key'] == 'api_path', 'value'].values[0] + endpoint"
   ]
  },
  {
   "cell_type": "markdown",
   "id": "66b0c5a5",
   "metadata": {},
   "source": [
    "### Configure endpoints"
   ]
  },
  {
   "cell_type": "code",
   "execution_count": 46,
   "id": "a6e390a0",
   "metadata": {},
   "outputs": [],
   "source": [
    "test_endpoint = get_path_to_endpoint('test')\n",
    "parse_bank_statements_endpoint = get_path_to_endpoint('transactions/parser') # AccountStatementParserLambda"
   ]
  },
  {
   "cell_type": "markdown",
   "id": "7f0a1339",
   "metadata": {},
   "source": [
    "## Read bank statement"
   ]
  },
  {
   "cell_type": "code",
   "execution_count": 14,
   "id": "b5883753",
   "metadata": {},
   "outputs": [],
   "source": [
    "path_to_bank_statement = r'C:\\Users\\alexp\\Development\\AWS-expense-analyzer\\AccountStatementParserLambda\\src\\main\\resources\\bankStatements\\pkobp.csv'"
   ]
  },
  {
   "cell_type": "code",
   "execution_count": 16,
   "id": "286e1ebf",
   "metadata": {},
   "outputs": [],
   "source": [
    "bank_statement_content = Path(path_to_bank_statement).read_text()"
   ]
  },
  {
   "cell_type": "markdown",
   "id": "9a7ac839",
   "metadata": {},
   "source": [
    "## Upload bank statement to AWS"
   ]
  },
  {
   "cell_type": "markdown",
   "id": "7202b9d4",
   "metadata": {},
   "source": [
    "### Test connection"
   ]
  },
  {
   "cell_type": "code",
   "execution_count": 59,
   "id": "d0aa5958",
   "metadata": {},
   "outputs": [
    {
     "data": {
      "text/plain": [
       "'Jest git'"
      ]
     },
     "execution_count": 59,
     "metadata": {},
     "output_type": "execute_result"
    }
   ],
   "source": [
    "response = requests.get(test_endpoint)\n",
    "response.text"
   ]
  },
  {
   "cell_type": "markdown",
   "id": "f1939f14",
   "metadata": {},
   "source": [
    "### Upload"
   ]
  },
  {
   "cell_type": "code",
   "execution_count": null,
   "id": "24a65e97",
   "metadata": {},
   "outputs": [],
   "source": []
  },
  {
   "cell_type": "code",
   "execution_count": null,
   "id": "0495625b",
   "metadata": {},
   "outputs": [],
   "source": []
  },
  {
   "cell_type": "code",
   "execution_count": null,
   "id": "94480d25",
   "metadata": {},
   "outputs": [],
   "source": []
  },
  {
   "cell_type": "code",
   "execution_count": null,
   "id": "b11a422f",
   "metadata": {},
   "outputs": [],
   "source": []
  },
  {
   "cell_type": "code",
   "execution_count": null,
   "id": "43b44f1f",
   "metadata": {},
   "outputs": [],
   "source": [
    "a"
   ]
  }
 ],
 "metadata": {
  "kernelspec": {
   "display_name": "Python 3 (ipykernel)",
   "language": "python",
   "name": "python3"
  },
  "language_info": {
   "codemirror_mode": {
    "name": "ipython",
    "version": 3
   },
   "file_extension": ".py",
   "mimetype": "text/x-python",
   "name": "python",
   "nbconvert_exporter": "python",
   "pygments_lexer": "ipython3",
   "version": "3.11.4"
  }
 },
 "nbformat": 4,
 "nbformat_minor": 5
}
