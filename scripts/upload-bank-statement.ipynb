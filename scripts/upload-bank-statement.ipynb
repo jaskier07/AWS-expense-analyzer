{
 "cells": [
  {
   "cell_type": "code",
   "execution_count": 1,
   "id": "364c9171",
   "metadata": {},
   "outputs": [
    {
     "name": "stdout",
     "output_type": "stream",
     "text": [
      "Requirement already satisfied: boto3 in /Library/Frameworks/Python.framework/Versions/3.12/lib/python3.12/site-packages (1.29.2)\n",
      "Requirement already satisfied: botocore<1.33.0,>=1.32.2 in /Library/Frameworks/Python.framework/Versions/3.12/lib/python3.12/site-packages (from boto3) (1.32.2)\n",
      "Requirement already satisfied: jmespath<2.0.0,>=0.7.1 in /Library/Frameworks/Python.framework/Versions/3.12/lib/python3.12/site-packages (from boto3) (1.0.1)\n",
      "Requirement already satisfied: s3transfer<0.8.0,>=0.7.0 in /Library/Frameworks/Python.framework/Versions/3.12/lib/python3.12/site-packages (from boto3) (0.7.0)\n",
      "Requirement already satisfied: python-dateutil<3.0.0,>=2.1 in /Library/Frameworks/Python.framework/Versions/3.12/lib/python3.12/site-packages (from botocore<1.33.0,>=1.32.2->boto3) (2.8.2)\n",
      "Requirement already satisfied: urllib3<2.1,>=1.25.4 in /Library/Frameworks/Python.framework/Versions/3.12/lib/python3.12/site-packages (from botocore<1.33.0,>=1.32.2->boto3) (2.0.7)\n",
      "Requirement already satisfied: six>=1.5 in /Library/Frameworks/Python.framework/Versions/3.12/lib/python3.12/site-packages (from python-dateutil<3.0.0,>=2.1->botocore<1.33.0,>=1.32.2->boto3) (1.16.0)\n",
      "\n",
      "\u001b[1m[\u001b[0m\u001b[34;49mnotice\u001b[0m\u001b[1;39;49m]\u001b[0m\u001b[39;49m A new release of pip is available: \u001b[0m\u001b[31;49m23.2.1\u001b[0m\u001b[39;49m -> \u001b[0m\u001b[32;49m24.0\u001b[0m\n",
      "\u001b[1m[\u001b[0m\u001b[34;49mnotice\u001b[0m\u001b[1;39;49m]\u001b[0m\u001b[39;49m To update, run: \u001b[0m\u001b[32;49mpip3 install --upgrade pip\u001b[0m\n",
      "Note: you may need to restart the kernel to use updated packages.\n",
      "Requirement already satisfied: pandas in /Library/Frameworks/Python.framework/Versions/3.12/lib/python3.12/site-packages (2.1.3)\n",
      "Requirement already satisfied: numpy<2,>=1.26.0 in /Library/Frameworks/Python.framework/Versions/3.12/lib/python3.12/site-packages (from pandas) (1.26.2)\n",
      "Requirement already satisfied: python-dateutil>=2.8.2 in /Library/Frameworks/Python.framework/Versions/3.12/lib/python3.12/site-packages (from pandas) (2.8.2)\n",
      "Requirement already satisfied: pytz>=2020.1 in /Library/Frameworks/Python.framework/Versions/3.12/lib/python3.12/site-packages (from pandas) (2023.3.post1)\n",
      "Requirement already satisfied: tzdata>=2022.1 in /Library/Frameworks/Python.framework/Versions/3.12/lib/python3.12/site-packages (from pandas) (2023.3)\n",
      "Requirement already satisfied: six>=1.5 in /Library/Frameworks/Python.framework/Versions/3.12/lib/python3.12/site-packages (from python-dateutil>=2.8.2->pandas) (1.16.0)\n",
      "\n",
      "\u001b[1m[\u001b[0m\u001b[34;49mnotice\u001b[0m\u001b[1;39;49m]\u001b[0m\u001b[39;49m A new release of pip is available: \u001b[0m\u001b[31;49m23.2.1\u001b[0m\u001b[39;49m -> \u001b[0m\u001b[32;49m24.0\u001b[0m\n",
      "\u001b[1m[\u001b[0m\u001b[34;49mnotice\u001b[0m\u001b[1;39;49m]\u001b[0m\u001b[39;49m To update, run: \u001b[0m\u001b[32;49mpip3 install --upgrade pip\u001b[0m\n",
      "Note: you may need to restart the kernel to use updated packages.\n",
      "Requirement already satisfied: requests in /Library/Frameworks/Python.framework/Versions/3.12/lib/python3.12/site-packages (2.31.0)\n",
      "Requirement already satisfied: charset-normalizer<4,>=2 in /Library/Frameworks/Python.framework/Versions/3.12/lib/python3.12/site-packages (from requests) (3.3.2)\n",
      "Requirement already satisfied: idna<4,>=2.5 in /Library/Frameworks/Python.framework/Versions/3.12/lib/python3.12/site-packages (from requests) (3.4)\n",
      "Requirement already satisfied: urllib3<3,>=1.21.1 in /Library/Frameworks/Python.framework/Versions/3.12/lib/python3.12/site-packages (from requests) (2.0.7)\n",
      "Requirement already satisfied: certifi>=2017.4.17 in /Library/Frameworks/Python.framework/Versions/3.12/lib/python3.12/site-packages (from requests) (2023.7.22)\n",
      "\n",
      "\u001b[1m[\u001b[0m\u001b[34;49mnotice\u001b[0m\u001b[1;39;49m]\u001b[0m\u001b[39;49m A new release of pip is available: \u001b[0m\u001b[31;49m23.2.1\u001b[0m\u001b[39;49m -> \u001b[0m\u001b[32;49m24.0\u001b[0m\n",
      "\u001b[1m[\u001b[0m\u001b[34;49mnotice\u001b[0m\u001b[1;39;49m]\u001b[0m\u001b[39;49m To update, run: \u001b[0m\u001b[32;49mpip3 install --upgrade pip\u001b[0m\n",
      "Note: you may need to restart the kernel to use updated packages.\n"
     ]
    }
   ],
   "source": [
    "%pip install boto3\n",
    "%pip install pandas\n",
    "%pip install requests\n",
    "%config Completer.use_jedi = False"
   ]
  },
  {
   "cell_type": "code",
   "execution_count": 2,
   "id": "35e688c1",
   "metadata": {},
   "outputs": [],
   "source": [
    "from pathlib import Path\n",
    "import csv\n",
    "import pandas as pd\n",
    "import requests\n",
    "import base64\n",
    "import boto3\n",
    "from datetime import datetime\n",
    "import os"
   ]
  },
  {
   "cell_type": "markdown",
   "id": "d7bfcef0",
   "metadata": {},
   "source": [
    "## Initial configuration"
   ]
  },
  {
   "cell_type": "code",
   "execution_count": 41,
   "id": "b608c8cf",
   "metadata": {},
   "outputs": [
    {
     "data": {
      "text/plain": [
       "0                  api_path\n",
       "1              project_path\n",
       "2    path_to_bank_statement\n",
       "3                 bank_type\n",
       "Name: key, dtype: object"
      ]
     },
     "execution_count": 41,
     "metadata": {},
     "output_type": "execute_result"
    }
   ],
   "source": [
    "path_to_configuration = '../ignored/jupyter_configuration.csv'\n",
    "config = pd.read_csv(path_to_configuration)\n",
    "config['key']"
   ]
  },
  {
   "cell_type": "code",
   "execution_count": 20,
   "id": "ac7126b9",
   "metadata": {},
   "outputs": [],
   "source": [
    "def get_value_from_config(key):\n",
    "    return config.loc[config['key'] == key, 'value'].values[0]"
   ]
  },
  {
   "cell_type": "code",
   "execution_count": 21,
   "id": "b6216c2e-57c5-46a4-809a-1d385263760f",
   "metadata": {},
   "outputs": [],
   "source": [
    "def get_path_to_endpoint(endpoint):\n",
    "    return get_config_value('api_path') + endpoint"
   ]
  },
  {
   "cell_type": "code",
   "execution_count": 37,
   "id": "977283cc",
   "metadata": {},
   "outputs": [],
   "source": [
    "path_to_bank_statement = get_value_from_config('path_to_bank_statement')\n",
    "bank_type = get_value_from_config('bank_type')\n",
    "test_endpoint = get_path_to_endpoint('health')"
   ]
  },
  {
   "cell_type": "markdown",
   "id": "26116d59",
   "metadata": {},
   "source": [
    "### Reading file content utils"
   ]
  },
  {
   "cell_type": "code",
   "execution_count": 23,
   "id": "e1280f28",
   "metadata": {},
   "outputs": [],
   "source": [
    "text_encoding = 'Windows-1250'\n",
    "\n",
    "def encode_base64(text):\n",
    "    text_bytes = text.encode(text_encoding)\n",
    "    text_bytes_base64 = base64.b64encode(text_bytes)\n",
    "    return text_bytes_base64.decode(text_encoding)\n",
    "\n",
    "def decode_base64(text):\n",
    "    text_bytes = text.encode(text_encoding)\n",
    "    text_bytes_base64 = base64.b64decode(text_bytes)\n",
    "    return text_bytes_base64.decode(text_encoding)"
   ]
  },
  {
   "cell_type": "markdown",
   "id": "7f0a1339",
   "metadata": {},
   "source": [
    "## Read bank statement"
   ]
  },
  {
   "cell_type": "code",
   "execution_count": 28,
   "id": "d6a08cba-e049-4226-afb1-51f15384045c",
   "metadata": {},
   "outputs": [],
   "source": [
    "bank_statement_content = Path(path_to_bank_statement).read_text(encoding=text_encoding)"
   ]
  },
  {
   "cell_type": "code",
   "execution_count": 29,
   "id": "286e1ebf",
   "metadata": {},
   "outputs": [],
   "source": [
    "bank_statement_content_base64 = encode_base64(bank_statement_content)"
   ]
  },
  {
   "cell_type": "markdown",
   "id": "9a7ac839",
   "metadata": {},
   "source": [
    "## Upload bank statement to AWS"
   ]
  },
  {
   "cell_type": "markdown",
   "id": "292a7df8-4fb6-4ea1-bd6d-bbee894a6510",
   "metadata": {},
   "source": [
    "### Set up filename"
   ]
  },
  {
   "cell_type": "code",
   "execution_count": 31,
   "id": "8f80a1e8",
   "metadata": {},
   "outputs": [
    {
     "data": {
      "text/plain": [
       "'2024-04-05/PKO_BP-pkobp.csv'"
      ]
     },
     "execution_count": 31,
     "metadata": {},
     "output_type": "execute_result"
    }
   ],
   "source": [
    "current_date = datetime.today().strftime('%Y-%m-%d')\n",
    "bucket_name = 'expenses-counter-bank-statements'\n",
    "filename = os.path.basename(path_to_bank_statement)\n",
    "s3_filename = '{}/{}-{}'.format(current_date, bank_type, filename)\n",
    "s3_filename"
   ]
  },
  {
   "cell_type": "markdown",
   "id": "7202b9d4",
   "metadata": {},
   "source": [
    "### Test connection"
   ]
  },
  {
   "cell_type": "code",
   "execution_count": 43,
   "id": "d0aa5958",
   "metadata": {},
   "outputs": [
    {
     "data": {
      "text/plain": [
       "<Response [200]>"
      ]
     },
     "execution_count": 43,
     "metadata": {},
     "output_type": "execute_result"
    }
   ],
   "source": [
    "response = requests.get(test_endpoint)\n",
    "response"
   ]
  },
  {
   "cell_type": "markdown",
   "id": "174f43f4-bd94-4578-bee9-0a339df6c1f6",
   "metadata": {},
   "source": [
    "### Call API Gateway for immediate analysis"
   ]
  },
  {
   "cell_type": "code",
   "execution_count": 33,
   "id": "2294efd8-3db8-4f93-95ad-4a99cdf17fe5",
   "metadata": {},
   "outputs": [
    {
     "ename": "NameError",
     "evalue": "name 'params' is not defined",
     "output_type": "error",
     "traceback": [
      "\u001b[0;31m---------------------------------------------------------------------------\u001b[0m",
      "\u001b[0;31mNameError\u001b[0m                                 Traceback (most recent call last)",
      "Cell \u001b[0;32mIn[33], line 1\u001b[0m\n\u001b[0;32m----> 1\u001b[0m response \u001b[38;5;241m=\u001b[39m requests\u001b[38;5;241m.\u001b[39mget(parse_bank_statements_endpoint, params\u001b[38;5;241m=\u001b[39m\u001b[43mparams\u001b[49m, headers\u001b[38;5;241m=\u001b[39mheaders)\n\u001b[1;32m      2\u001b[0m response\u001b[38;5;241m.\u001b[39mstatus_code\n",
      "\u001b[0;31mNameError\u001b[0m: name 'params' is not defined"
     ]
    }
   ],
   "source": [
    "response = requests.get(parse_bank_statements_endpoint, params=params, headers=headers)\n",
    "response.status_code"
   ]
  },
  {
   "cell_type": "code",
   "execution_count": 32,
   "id": "7cd610ac-8df9-40df-b364-276681cbc214",
   "metadata": {},
   "outputs": [
    {
     "ename": "SyntaxError",
     "evalue": "'break' outside loop (668683560.py, line 1)",
     "output_type": "error",
     "traceback": [
      "\u001b[0;36m  Cell \u001b[0;32mIn[32], line 1\u001b[0;36m\u001b[0m\n\u001b[0;31m    break\u001b[0m\n\u001b[0m    ^\u001b[0m\n\u001b[0;31mSyntaxError\u001b[0m\u001b[0;31m:\u001b[0m 'break' outside loop\n"
     ]
    }
   ],
   "source": [
    "break"
   ]
  },
  {
   "cell_type": "code",
   "execution_count": 25,
   "id": "922899c5",
   "metadata": {},
   "outputs": [],
   "source": [
    "s3 = boto3.client('s3')\n",
    "result = None\n",
    "with open(path_to_bank_statement, \"rb\") as file:\n",
    "    s3.upload_fileobj(file, bucket_name, s3_filename)"
   ]
  },
  {
   "cell_type": "code",
   "execution_count": null,
   "id": "2555f848",
   "metadata": {},
   "outputs": [],
   "source": []
  },
  {
   "cell_type": "code",
   "execution_count": null,
   "id": "c5544306",
   "metadata": {},
   "outputs": [],
   "source": []
  },
  {
   "cell_type": "markdown",
   "id": "f1939f14",
   "metadata": {},
   "source": [
    "### Map bank statements to transactions"
   ]
  },
  {
   "cell_type": "code",
   "execution_count": 102,
   "id": "ca445f33",
   "metadata": {},
   "outputs": [],
   "source": [
    "params = {\n",
    "    \"accountStatement\": bank_statement_content_base64,\n",
    "    \"bankType\": bank_type\n",
    "}"
   ]
  },
  {
   "cell_type": "code",
   "execution_count": 103,
   "id": "0e6a9607",
   "metadata": {},
   "outputs": [
    {
     "data": {
      "text/plain": [
       "414"
      ]
     },
     "execution_count": 103,
     "metadata": {},
     "output_type": "execute_result"
    }
   ],
   "source": [
    "headers = {'content-type': 'application/json'}\n",
    "response = requests.get(parse_bank_statements_endpoint, params=params, headers=headers)\n",
    "response.status_code"
   ]
  },
  {
   "cell_type": "code",
   "execution_count": null,
   "id": "f08311ac",
   "metadata": {},
   "outputs": [],
   "source": []
  }
 ],
 "metadata": {
  "kernelspec": {
   "display_name": "Python 3 (ipykernel)",
   "language": "python",
   "name": "python3"
  },
  "language_info": {
   "codemirror_mode": {
    "name": "ipython",
    "version": 3
   },
   "file_extension": ".py",
   "mimetype": "text/x-python",
   "name": "python",
   "nbconvert_exporter": "python",
   "pygments_lexer": "ipython3",
   "version": "3.12.0"
  }
 },
 "nbformat": 4,
 "nbformat_minor": 5
}
