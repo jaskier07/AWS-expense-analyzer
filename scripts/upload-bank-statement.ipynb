{
 "cells": [
  {
   "cell_type": "code",
   "execution_count": 1,
   "id": "364c9171",
   "metadata": {},
   "outputs": [
    {
     "name": "stdout",
     "output_type": "stream",
     "text": [
      "Requirement already satisfied: boto3 in c:\\users\\alexp\\appdata\\local\\packages\\pythonsoftwarefoundation.python.3.11_qbz5n2kfra8p0\\localcache\\local-packages\\python311\\site-packages (1.28.3)\n",
      "Requirement already satisfied: botocore<1.32.0,>=1.31.3 in c:\\users\\alexp\\appdata\\local\\packages\\pythonsoftwarefoundation.python.3.11_qbz5n2kfra8p0\\localcache\\local-packages\\python311\\site-packages (from boto3) (1.31.3)\n",
      "Requirement already satisfied: jmespath<2.0.0,>=0.7.1 in c:\\users\\alexp\\appdata\\local\\packages\\pythonsoftwarefoundation.python.3.11_qbz5n2kfra8p0\\localcache\\local-packages\\python311\\site-packages (from boto3) (1.0.1)\n",
      "Requirement already satisfied: s3transfer<0.7.0,>=0.6.0 in c:\\users\\alexp\\appdata\\local\\packages\\pythonsoftwarefoundation.python.3.11_qbz5n2kfra8p0\\localcache\\local-packages\\python311\\site-packages (from boto3) (0.6.1)\n",
      "Requirement already satisfied: python-dateutil<3.0.0,>=2.1 in c:\\users\\alexp\\appdata\\local\\packages\\pythonsoftwarefoundation.python.3.11_qbz5n2kfra8p0\\localcache\\local-packages\\python311\\site-packages (from botocore<1.32.0,>=1.31.3->boto3) (2.8.2)\n",
      "Requirement already satisfied: urllib3<1.27,>=1.25.4 in c:\\users\\alexp\\appdata\\local\\packages\\pythonsoftwarefoundation.python.3.11_qbz5n2kfra8p0\\localcache\\local-packages\\python311\\site-packages (from botocore<1.32.0,>=1.31.3->boto3) (1.26.16)\n",
      "Requirement already satisfied: six>=1.5 in c:\\users\\alexp\\appdata\\local\\packages\\pythonsoftwarefoundation.python.3.11_qbz5n2kfra8p0\\localcache\\local-packages\\python311\\site-packages (from python-dateutil<3.0.0,>=2.1->botocore<1.32.0,>=1.31.3->boto3) (1.16.0)\n",
      "Note: you may need to restart the kernel to use updated packages.\n"
     ]
    },
    {
     "name": "stderr",
     "output_type": "stream",
     "text": [
      "\n",
      "[notice] A new release of pip is available: 23.1.2 -> 23.2.1\n",
      "[notice] To update, run: C:\\Users\\alexp\\AppData\\Local\\Microsoft\\WindowsApps\\PythonSoftwareFoundation.Python.3.11_qbz5n2kfra8p0\\python.exe -m pip install --upgrade pip\n"
     ]
    },
    {
     "name": "stdout",
     "output_type": "stream",
     "text": [
      "Requirement already satisfied: pandas in c:\\users\\alexp\\appdata\\local\\packages\\pythonsoftwarefoundation.python.3.11_qbz5n2kfra8p0\\localcache\\local-packages\\python311\\site-packages (2.0.3)\n",
      "Requirement already satisfied: python-dateutil>=2.8.2 in c:\\users\\alexp\\appdata\\local\\packages\\pythonsoftwarefoundation.python.3.11_qbz5n2kfra8p0\\localcache\\local-packages\\python311\\site-packages (from pandas) (2.8.2)\n",
      "Requirement already satisfied: pytz>=2020.1 in c:\\users\\alexp\\appdata\\local\\packages\\pythonsoftwarefoundation.python.3.11_qbz5n2kfra8p0\\localcache\\local-packages\\python311\\site-packages (from pandas) (2023.3)\n",
      "Requirement already satisfied: tzdata>=2022.1 in c:\\users\\alexp\\appdata\\local\\packages\\pythonsoftwarefoundation.python.3.11_qbz5n2kfra8p0\\localcache\\local-packages\\python311\\site-packages (from pandas) (2023.3)\n",
      "Requirement already satisfied: numpy>=1.21.0 in c:\\users\\alexp\\appdata\\local\\packages\\pythonsoftwarefoundation.python.3.11_qbz5n2kfra8p0\\localcache\\local-packages\\python311\\site-packages (from pandas) (1.25.1)\n",
      "Requirement already satisfied: six>=1.5 in c:\\users\\alexp\\appdata\\local\\packages\\pythonsoftwarefoundation.python.3.11_qbz5n2kfra8p0\\localcache\\local-packages\\python311\\site-packages (from python-dateutil>=2.8.2->pandas) (1.16.0)\n",
      "Note: you may need to restart the kernel to use updated packages.\n"
     ]
    },
    {
     "name": "stderr",
     "output_type": "stream",
     "text": [
      "\n",
      "[notice] A new release of pip is available: 23.1.2 -> 23.2.1\n",
      "[notice] To update, run: C:\\Users\\alexp\\AppData\\Local\\Microsoft\\WindowsApps\\PythonSoftwareFoundation.Python.3.11_qbz5n2kfra8p0\\python.exe -m pip install --upgrade pip\n"
     ]
    },
    {
     "name": "stdout",
     "output_type": "stream",
     "text": [
      "Requirement already satisfied: requests in c:\\users\\alexp\\appdata\\local\\packages\\pythonsoftwarefoundation.python.3.11_qbz5n2kfra8p0\\localcache\\local-packages\\python311\\site-packages (2.31.0)\n",
      "Requirement already satisfied: charset-normalizer<4,>=2 in c:\\users\\alexp\\appdata\\local\\packages\\pythonsoftwarefoundation.python.3.11_qbz5n2kfra8p0\\localcache\\local-packages\\python311\\site-packages (from requests) (3.2.0)\n",
      "Requirement already satisfied: idna<4,>=2.5 in c:\\users\\alexp\\appdata\\local\\packages\\pythonsoftwarefoundation.python.3.11_qbz5n2kfra8p0\\localcache\\local-packages\\python311\\site-packages (from requests) (3.4)\n",
      "Requirement already satisfied: urllib3<3,>=1.21.1 in c:\\users\\alexp\\appdata\\local\\packages\\pythonsoftwarefoundation.python.3.11_qbz5n2kfra8p0\\localcache\\local-packages\\python311\\site-packages (from requests) (1.26.16)\n",
      "Requirement already satisfied: certifi>=2017.4.17 in c:\\users\\alexp\\appdata\\local\\packages\\pythonsoftwarefoundation.python.3.11_qbz5n2kfra8p0\\localcache\\local-packages\\python311\\site-packages (from requests) (2023.5.7)\n",
      "Note: you may need to restart the kernel to use updated packages.\n"
     ]
    },
    {
     "name": "stderr",
     "output_type": "stream",
     "text": [
      "\n",
      "[notice] A new release of pip is available: 23.1.2 -> 23.2.1\n",
      "[notice] To update, run: C:\\Users\\alexp\\AppData\\Local\\Microsoft\\WindowsApps\\PythonSoftwareFoundation.Python.3.11_qbz5n2kfra8p0\\python.exe -m pip install --upgrade pip\n"
     ]
    }
   ],
   "source": [
    "%pip install boto3\n",
    "%pip install pandas\n",
    "%pip install requests\n",
    "%config Completer.use_jedi = False"
   ]
  },
  {
   "cell_type": "code",
   "execution_count": 2,
   "id": "35e688c1",
   "metadata": {},
   "outputs": [],
   "source": [
    "from pathlib import Path\n",
    "import csv\n",
    "import pandas as pd\n",
    "import requests\n",
    "import base64\n",
    "import boto3\n",
    "from datetime import datetime\n",
    "import os"
   ]
  },
  {
   "cell_type": "markdown",
   "id": "d7bfcef0",
   "metadata": {},
   "source": [
    "## Initial configuration"
   ]
  },
  {
   "cell_type": "code",
   "execution_count": 3,
   "id": "b608c8cf",
   "metadata": {},
   "outputs": [
    {
     "data": {
      "text/plain": [
       "0                  api_path\n",
       "1    path_to_bank_statement\n",
       "2                 bank_type\n",
       "Name: key, dtype: object"
      ]
     },
     "execution_count": 3,
     "metadata": {},
     "output_type": "execute_result"
    }
   ],
   "source": [
    "path_to_configuration = r'C:\\Users\\alexp\\Development\\AWS-expense-analyzer\\ignored\\jupyter_configuration.csv'\n",
    "config = pd.read_csv(path_to_configuration)\n",
    "config['key']"
   ]
  },
  {
   "cell_type": "code",
   "execution_count": 4,
   "id": "ac7126b9",
   "metadata": {},
   "outputs": [],
   "source": [
    "def get_value_from_config(key):\n",
    "    return config.loc[config['key'] == key, 'value'].values[0]"
   ]
  },
  {
   "cell_type": "code",
   "execution_count": 5,
   "id": "977283cc",
   "metadata": {},
   "outputs": [
    {
     "data": {
      "text/plain": [
       "'C:\\\\Users\\\\alexp\\\\Development\\\\AWS-expense-analyzer\\\\AccountStatementParserLambda\\\\src\\\\main\\\\resources\\\\bankStatements\\\\pkobp.csv'"
      ]
     },
     "execution_count": 5,
     "metadata": {},
     "output_type": "execute_result"
    }
   ],
   "source": [
    "path_to_bank_statement = get_value_from_config('path_to_bank_statement')\n",
    "bank_type = get_value_from_config('bank_type')\n",
    "path_to_bank_statement"
   ]
  },
  {
   "cell_type": "markdown",
   "id": "26116d59",
   "metadata": {},
   "source": [
    "### Utils"
   ]
  },
  {
   "cell_type": "code",
   "execution_count": 6,
   "id": "e1280f28",
   "metadata": {},
   "outputs": [],
   "source": [
    "text_encoding = 'Windows-1250'\n",
    "\n",
    "def encode_base64(text):\n",
    "    text_bytes = text.encode(text_encoding)\n",
    "    text_bytes_base64 = base64.b64encode(text_bytes)\n",
    "    return text_bytes_base64.decode(text_encoding)\n",
    "\n",
    "def decode_base64(text):\n",
    "    text_bytes = text.encode(text_encoding)\n",
    "    text_bytes_base64 = base64.b64decode(text_bytes)\n",
    "    return text_bytes_base64.decode(text_encoding)"
   ]
  },
  {
   "cell_type": "markdown",
   "id": "66b0c5a5",
   "metadata": {},
   "source": [
    "### Configure endpoints"
   ]
  },
  {
   "cell_type": "code",
   "execution_count": 7,
   "id": "47d9052b",
   "metadata": {},
   "outputs": [],
   "source": [
    "def get_path_to_endpoint(endpoint):\n",
    "    return get_value_from_config('api_path') + endpoint"
   ]
  },
  {
   "cell_type": "code",
   "execution_count": 8,
   "id": "a6e390a0",
   "metadata": {},
   "outputs": [],
   "source": [
    "test_endpoint = get_path_to_endpoint('test')\n",
    "parse_bank_statements_endpoint = get_path_to_endpoint('transactions/parser') # AccountStatementParserLambda"
   ]
  },
  {
   "cell_type": "markdown",
   "id": "7f0a1339",
   "metadata": {},
   "source": [
    "## Read bank statement"
   ]
  },
  {
   "cell_type": "code",
   "execution_count": 9,
   "id": "286e1ebf",
   "metadata": {},
   "outputs": [],
   "source": [
    "bank_statement_content = Path(path_to_bank_statement).read_text()\n",
    "bank_statement_content_base64 = encode_base64(bank_statement_content)"
   ]
  },
  {
   "cell_type": "markdown",
   "id": "9a7ac839",
   "metadata": {},
   "source": [
    "## Upload bank statement to AWS"
   ]
  },
  {
   "cell_type": "code",
   "execution_count": 21,
   "id": "8f80a1e8",
   "metadata": {},
   "outputs": [
    {
     "data": {
      "text/plain": [
       "'2023-08-11/PKO_BP-pkobp.csv'"
      ]
     },
     "execution_count": 21,
     "metadata": {},
     "output_type": "execute_result"
    }
   ],
   "source": [
    "current_date = datetime.today().strftime('%Y-%m-%d')\n",
    "bucket_name = 'expenses-counter-bank-statements'\n",
    "filename = os.path.basename(path_to_bank_statement)\n",
    "s3_filename = '{}/{}-{}'.format(current_date, bank_type, filename)\n",
    "s3_filename"
   ]
  },
  {
   "cell_type": "code",
   "execution_count": 25,
   "id": "922899c5",
   "metadata": {},
   "outputs": [],
   "source": [
    "s3 = boto3.client('s3')\n",
    "result = None\n",
    "with open(path_to_bank_statement, \"rb\") as file:\n",
    "    s3.upload_fileobj(file, bucket_name, s3_filename)"
   ]
  },
  {
   "cell_type": "markdown",
   "id": "7202b9d4",
   "metadata": {},
   "source": [
    "### Test connection"
   ]
  },
  {
   "cell_type": "code",
   "execution_count": 26,
   "id": "d0aa5958",
   "metadata": {},
   "outputs": [
    {
     "data": {
      "text/plain": [
       "'Jest git'"
      ]
     },
     "execution_count": 26,
     "metadata": {},
     "output_type": "execute_result"
    }
   ],
   "source": [
    "response = requests.get(test_endpoint)\n",
    "response.text"
   ]
  },
  {
   "cell_type": "code",
   "execution_count": null,
   "id": "2555f848",
   "metadata": {},
   "outputs": [],
   "source": []
  },
  {
   "cell_type": "code",
   "execution_count": null,
   "id": "c5544306",
   "metadata": {},
   "outputs": [],
   "source": []
  },
  {
   "cell_type": "markdown",
   "id": "f1939f14",
   "metadata": {},
   "source": [
    "### Map bank statements to transactions"
   ]
  },
  {
   "cell_type": "code",
   "execution_count": 102,
   "id": "ca445f33",
   "metadata": {},
   "outputs": [],
   "source": [
    "params = {\n",
    "    \"accountStatement\": bank_statement_content_base64,\n",
    "    \"bankType\": bank_type\n",
    "}"
   ]
  },
  {
   "cell_type": "code",
   "execution_count": 103,
   "id": "0e6a9607",
   "metadata": {},
   "outputs": [
    {
     "data": {
      "text/plain": [
       "414"
      ]
     },
     "execution_count": 103,
     "metadata": {},
     "output_type": "execute_result"
    }
   ],
   "source": [
    "headers = {'content-type': 'application/json'}\n",
    "response = requests.get(parse_bank_statements_endpoint, params=params, headers=headers)\n",
    "response.status_code"
   ]
  },
  {
   "cell_type": "code",
   "execution_count": null,
   "id": "f08311ac",
   "metadata": {},
   "outputs": [],
   "source": []
  }
 ],
 "metadata": {
  "kernelspec": {
   "display_name": "Python 3 (ipykernel)",
   "language": "python",
   "name": "python3"
  },
  "language_info": {
   "codemirror_mode": {
    "name": "ipython",
    "version": 3
   },
   "file_extension": ".py",
   "mimetype": "text/x-python",
   "name": "python",
   "nbconvert_exporter": "python",
   "pygments_lexer": "ipython3",
   "version": "3.11.4"
  }
 },
 "nbformat": 4,
 "nbformat_minor": 5
}
